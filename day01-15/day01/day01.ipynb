{
 "cells": [
  {
   "cell_type": "code",
   "execution_count": 2,
   "id": "f1aaa4ab",
   "metadata": {},
   "outputs": [
    {
     "data": {
      "text/plain": [
       "[1, 2, 3, 4, 0]"
      ]
     },
     "execution_count": 2,
     "metadata": {},
     "output_type": "execute_result"
    }
   ],
   "source": [
    "a = [1, 2, 3, 4, 5]\n",
    "a[4] = 0\n",
    "a"
   ]
  },
  {
   "cell_type": "code",
   "execution_count": 1,
   "id": "fd0c62c3",
   "metadata": {},
   "outputs": [
    {
     "name": "stdout",
     "output_type": "stream",
     "text": [
      "1\n",
      "3\n",
      "6\n",
      "10\n",
      "15\n"
     ]
    }
   ],
   "source": [
    "res = 0\n",
    "for i in [1, 2, 3, 4, 5]:\n",
    "    res += i\n",
    "    print(res)\n",
    "    "
   ]
  },
  {
   "cell_type": "code",
   "execution_count": 3,
   "id": "842c6216",
   "metadata": {},
   "outputs": [
    {
     "name": "stdout",
     "output_type": "stream",
     "text": [
      "123456\n"
     ]
    }
   ],
   "source": [
    "print('123',end=\"\" )\n",
    "print('456')"
   ]
  },
  {
   "cell_type": "code",
   "execution_count": 4,
   "id": "b6699994",
   "metadata": {},
   "outputs": [
    {
     "name": "stdout",
     "output_type": "stream",
     "text": [
      "\n",
      "Hello,World!\n",
      "hello\n",
      "\n",
      "\n",
      "\n",
      "hellooooo\n",
      "\n"
     ]
    }
   ],
   "source": [
    "print('''\n",
    "Hello,World!\n",
    "hello\n",
    "\n",
    "\n",
    "\n",
    "hellooooo\n",
    "''')"
   ]
  },
  {
   "cell_type": "markdown",
   "id": "bdd49e66",
   "metadata": {},
   "source": [
    "### Pyhon\n",
    "---\n",
    "\n",
    "```python\n",
    "import sys\n",
    "\n",
    "```"
   ]
  }
 ],
 "metadata": {
  "kernelspec": {
   "display_name": "Python 3 (ipykernel)",
   "language": "python",
   "name": "python3"
  },
  "language_info": {
   "codemirror_mode": {
    "name": "ipython",
    "version": 3
   },
   "file_extension": ".py",
   "mimetype": "text/x-python",
   "name": "python",
   "nbconvert_exporter": "python",
   "pygments_lexer": "ipython3",
   "version": "3.11.4"
  }
 },
 "nbformat": 4,
 "nbformat_minor": 5
}
